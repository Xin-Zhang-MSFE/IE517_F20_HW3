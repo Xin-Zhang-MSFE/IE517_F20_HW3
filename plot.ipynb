{
 "cells": [
  {
   "cell_type": "code",
   "execution_count": 33,
   "metadata": {},
   "outputs": [],
   "source": [
    "import pandas as pd\n",
    "from pandas import DataFrame \n",
    "import matplotlib.pyplot as plot\n",
    "import numpy as np\n",
    "from sklearn import preprocessing\n",
    "import scipy.stats as stats\n",
    "import pylab "
   ]
  },
  {
   "cell_type": "code",
   "execution_count": 2,
   "metadata": {},
   "outputs": [],
   "source": [
    "df=pd.read_csv('C:/Users/zxfly/Desktop/UIUC/first semester/machine learning 1/module3/HY_Universe_corporate bond.csv')"
   ]
  },
  {
   "cell_type": "code",
   "execution_count": 3,
   "metadata": {},
   "outputs": [
    {
     "data": {
      "text/html": [
       "<div>\n",
       "<style scoped>\n",
       "    .dataframe tbody tr th:only-of-type {\n",
       "        vertical-align: middle;\n",
       "    }\n",
       "\n",
       "    .dataframe tbody tr th {\n",
       "        vertical-align: top;\n",
       "    }\n",
       "\n",
       "    .dataframe thead th {\n",
       "        text-align: right;\n",
       "    }\n",
       "</style>\n",
       "<table border=\"1\" class=\"dataframe\">\n",
       "  <thead>\n",
       "    <tr style=\"text-align: right;\">\n",
       "      <th></th>\n",
       "      <th>CUSIP</th>\n",
       "      <th>Ticker</th>\n",
       "      <th>Issue Date</th>\n",
       "      <th>Maturity</th>\n",
       "      <th>1st Call Date</th>\n",
       "      <th>Moodys</th>\n",
       "      <th>S_and_P</th>\n",
       "      <th>Fitch</th>\n",
       "      <th>Bloomberg Composite Rating</th>\n",
       "      <th>Coupon</th>\n",
       "      <th>...</th>\n",
       "      <th>percent_intra_dealer</th>\n",
       "      <th>percent_uncapped</th>\n",
       "      <th>bond_type</th>\n",
       "      <th>Client_Trade_Percentage</th>\n",
       "      <th>weekly_mean_volume</th>\n",
       "      <th>weekly_median_volume</th>\n",
       "      <th>weekly_max_volume</th>\n",
       "      <th>weekly_min_volume</th>\n",
       "      <th>weekly_mean_ntrades</th>\n",
       "      <th>weekly_median_ntrades</th>\n",
       "    </tr>\n",
       "  </thead>\n",
       "  <tbody>\n",
       "    <tr>\n",
       "      <th>0</th>\n",
       "      <td>000324AA1</td>\n",
       "      <td>FLECIN</td>\n",
       "      <td>7/1/2014</td>\n",
       "      <td>7/1/2019</td>\n",
       "      <td>10/23/2017</td>\n",
       "      <td>Nan</td>\n",
       "      <td>Nan</td>\n",
       "      <td>Nan</td>\n",
       "      <td>Nan</td>\n",
       "      <td>12.00</td>\n",
       "      <td>...</td>\n",
       "      <td>0.006645</td>\n",
       "      <td>0.292359</td>\n",
       "      <td>5</td>\n",
       "      <td>0.521595</td>\n",
       "      <td>3105926.765</td>\n",
       "      <td>2000000.0</td>\n",
       "      <td>18980000.0</td>\n",
       "      <td>60000.0</td>\n",
       "      <td>3.541176</td>\n",
       "      <td>1</td>\n",
       "    </tr>\n",
       "    <tr>\n",
       "      <th>1</th>\n",
       "      <td>00080QAB1</td>\n",
       "      <td>RBS</td>\n",
       "      <td>3/15/2004</td>\n",
       "      <td>6/4/2018</td>\n",
       "      <td>Nan</td>\n",
       "      <td>Ba1</td>\n",
       "      <td>BB+</td>\n",
       "      <td>BBB</td>\n",
       "      <td>BB+</td>\n",
       "      <td>4.65</td>\n",
       "      <td>...</td>\n",
       "      <td>0.425018</td>\n",
       "      <td>0.974071</td>\n",
       "      <td>2</td>\n",
       "      <td>0.337071</td>\n",
       "      <td>1721696.774</td>\n",
       "      <td>1160000.0</td>\n",
       "      <td>11197000.0</td>\n",
       "      <td>5000.0</td>\n",
       "      <td>18.412903</td>\n",
       "      <td>3</td>\n",
       "    </tr>\n",
       "    <tr>\n",
       "      <th>2</th>\n",
       "      <td>00081TAD0</td>\n",
       "      <td>ACCO</td>\n",
       "      <td>5/14/2010</td>\n",
       "      <td>3/15/2015</td>\n",
       "      <td>Nan</td>\n",
       "      <td>WR</td>\n",
       "      <td>NR</td>\n",
       "      <td>BB+</td>\n",
       "      <td>NR</td>\n",
       "      <td>10.63</td>\n",
       "      <td>...</td>\n",
       "      <td>0.115207</td>\n",
       "      <td>0.594470</td>\n",
       "      <td>5</td>\n",
       "      <td>0.467742</td>\n",
       "      <td>4200313.433</td>\n",
       "      <td>3520000.0</td>\n",
       "      <td>14000000.0</td>\n",
       "      <td>24000.0</td>\n",
       "      <td>6.477612</td>\n",
       "      <td>1</td>\n",
       "    </tr>\n",
       "    <tr>\n",
       "      <th>3</th>\n",
       "      <td>00081TAH1</td>\n",
       "      <td>ACCO</td>\n",
       "      <td>6/17/2013</td>\n",
       "      <td>4/30/2020</td>\n",
       "      <td>Nan</td>\n",
       "      <td>WR</td>\n",
       "      <td>NR</td>\n",
       "      <td>WD</td>\n",
       "      <td>NR</td>\n",
       "      <td>6.75</td>\n",
       "      <td>...</td>\n",
       "      <td>0.426332</td>\n",
       "      <td>0.892462</td>\n",
       "      <td>3</td>\n",
       "      <td>0.212864</td>\n",
       "      <td>6321559.783</td>\n",
       "      <td>5487500.0</td>\n",
       "      <td>18459000.0</td>\n",
       "      <td>30000.0</td>\n",
       "      <td>27.038043</td>\n",
       "      <td>1</td>\n",
       "    </tr>\n",
       "    <tr>\n",
       "      <th>4</th>\n",
       "      <td>00081TAJ7</td>\n",
       "      <td>ACCO</td>\n",
       "      <td>12/22/2016</td>\n",
       "      <td>12/15/2024</td>\n",
       "      <td>12/15/2019</td>\n",
       "      <td>B1</td>\n",
       "      <td>BB-</td>\n",
       "      <td>BB</td>\n",
       "      <td>BB-</td>\n",
       "      <td>5.25</td>\n",
       "      <td>...</td>\n",
       "      <td>0.157216</td>\n",
       "      <td>0.690722</td>\n",
       "      <td>5</td>\n",
       "      <td>0.500000</td>\n",
       "      <td>5936714.286</td>\n",
       "      <td>3305500.0</td>\n",
       "      <td>72760000.0</td>\n",
       "      <td>90000.0</td>\n",
       "      <td>9.238095</td>\n",
       "      <td>1</td>\n",
       "    </tr>\n",
       "  </tbody>\n",
       "</table>\n",
       "<p>5 rows × 37 columns</p>\n",
       "</div>"
      ],
      "text/plain": [
       "       CUSIP  Ticker  Issue Date    Maturity 1st Call Date Moodys S_and_P  \\\n",
       "0  000324AA1  FLECIN    7/1/2014    7/1/2019    10/23/2017    Nan     Nan   \n",
       "1  00080QAB1     RBS   3/15/2004    6/4/2018           Nan    Ba1     BB+   \n",
       "2  00081TAD0    ACCO   5/14/2010   3/15/2015           Nan     WR      NR   \n",
       "3  00081TAH1    ACCO   6/17/2013   4/30/2020           Nan     WR      NR   \n",
       "4  00081TAJ7    ACCO  12/22/2016  12/15/2024    12/15/2019     B1     BB-   \n",
       "\n",
       "  Fitch Bloomberg Composite Rating  Coupon  ...  percent_intra_dealer  \\\n",
       "0   Nan                        Nan   12.00  ...              0.006645   \n",
       "1   BBB                        BB+    4.65  ...              0.425018   \n",
       "2   BB+                         NR   10.63  ...              0.115207   \n",
       "3    WD                         NR    6.75  ...              0.426332   \n",
       "4    BB                        BB-    5.25  ...              0.157216   \n",
       "\n",
       "  percent_uncapped bond_type  Client_Trade_Percentage weekly_mean_volume  \\\n",
       "0         0.292359         5                 0.521595        3105926.765   \n",
       "1         0.974071         2                 0.337071        1721696.774   \n",
       "2         0.594470         5                 0.467742        4200313.433   \n",
       "3         0.892462         3                 0.212864        6321559.783   \n",
       "4         0.690722         5                 0.500000        5936714.286   \n",
       "\n",
       "   weekly_median_volume weekly_max_volume weekly_min_volume  \\\n",
       "0             2000000.0        18980000.0           60000.0   \n",
       "1             1160000.0        11197000.0            5000.0   \n",
       "2             3520000.0        14000000.0           24000.0   \n",
       "3             5487500.0        18459000.0           30000.0   \n",
       "4             3305500.0        72760000.0           90000.0   \n",
       "\n",
       "  weekly_mean_ntrades weekly_median_ntrades  \n",
       "0            3.541176                     1  \n",
       "1           18.412903                     3  \n",
       "2            6.477612                     1  \n",
       "3           27.038043                     1  \n",
       "4            9.238095                     1  \n",
       "\n",
       "[5 rows x 37 columns]"
      ]
     },
     "execution_count": 3,
     "metadata": {},
     "output_type": "execute_result"
    }
   ],
   "source": [
    "df.head()"
   ]
  },
  {
   "cell_type": "code",
   "execution_count": 4,
   "metadata": {},
   "outputs": [
    {
     "name": "stdout",
     "output_type": "stream",
     "text": [
      "1st Call Date\n",
      "Moodys\n",
      "S_and_P\n",
      "Fitch\n",
      "Bloomberg Composite Rating\n",
      "Months in JNK\n",
      "Months in HYG\n",
      "Months in Both\n"
     ]
    }
   ],
   "source": [
    "#show all the columns that have Nan\n",
    "for i in df.columns:\n",
    "    if 'Nan'in df[i].tolist():\n",
    "        print(i)"
   ]
  },
  {
   "cell_type": "code",
   "execution_count": 22,
   "metadata": {},
   "outputs": [
    {
     "name": "stdout",
     "output_type": "stream",
     "text": [
      "(2721, 37)\n",
      "(2720, 37)\n"
     ]
    },
    {
     "data": {
      "image/png": "[encoded data removed]",
      "text/plain": [
       "<Figure size 432x288 with 1 Axes>"
      ]
     },
     "metadata": {
      "needs_background": "light"
     },
     "output_type": "display_data"
    },
    {
     "data": {
      "image/png": "[encoded data removed]",
      "text/plain": [
       "<Figure size 432x288 with 1 Axes>"
      ]
     },
     "metadata": {
      "needs_background": "light"
     },
     "output_type": "display_data"
    }
   ],
   "source": [
    "#calculate correlations between real-valued attributes --scatter plot\n",
    "df1=df.dropna(inplace=False)\n",
    "df1=df1.values[1:2722,:]\n",
    "print(df.shape)\n",
    "print(df1.shape)\n",
    "#help(plot.scatter)\n",
    "dataRow2 = df1[:,9] \n",
    "dataRow3 = df1[:,13]\n",
    "plot.scatter(dataRow2, dataRow3)\n",
    "plot.xlabel(\"Coupon\") \n",
    "plot.ylabel((\"Maturity At issue Months\")) \n",
    "#_=plot.scatter(df['Coupon'],df['Maturity At Issue months'])\n",
    "plot.show()\n",
    "#delete coupon>500\n",
    "df3=df.values[0:2721,[9,13]]\n",
    "df2=df3\n",
    "for i in range(0,2721):\n",
    "    if df3[i,0]<500:\n",
    "        df2[i,0]=df3[i,0]\n",
    "    else:\n",
    "        df2[i,0]=0\n",
    "dataRow2 = df2[:,0] \n",
    "dataRow3 = df2[:,1]\n",
    "plot.scatter(dataRow2, dataRow3)\n",
    "plot.xlabel(\"Coupon\") \n",
    "plot.ylabel((\"Maturity At issue Months\")) \n",
    "plot.show()"
   ]
  },
  {
   "cell_type": "code",
   "execution_count": 26,
   "metadata": {},
   "outputs": [
    {
     "data": {
      "image/png": "[encoded data removed]",
      "text/plain": [
       "<Figure size 432x288 with 1 Axes>"
      ]
     },
     "metadata": {
      "needs_background": "light"
     },
     "output_type": "display_data"
    }
   ],
   "source": [
    "#Scatter plot2\n",
    "plot.xlabel('Maturity At Issue months')\n",
    "plot.ylabel('Issued Amount')\n",
    "plot.title('Maturity At Issue months V Issued Amount')\n",
    "_=plot.scatter(df['Maturity At Issue months'],df['Issued Amount'])"
   ]
  },
  {
   "cell_type": "code",
   "execution_count": 27,
   "metadata": {},
   "outputs": [
    {
     "data": {
      "image/png": "[encoded data removed]",
      "text/plain": [
       "<Figure size 432x288 with 1 Axes>"
      ]
     },
     "metadata": {
      "needs_background": "light"
     },
     "output_type": "display_data"
    }
   ],
   "source": [
    "#visualize correlations using heatmap plot.pcolor(corMat)\n",
    "#Standardization\n",
    "x=df.iloc[:,20:30]\n",
    "scaler=preprocessing.StandardScaler()\n",
    "x_scaler=scaler.fit_transform(x)\n",
    "x_scaler_df=pd.DataFrame(x_scaler)\n",
    "corMat=pd.DataFrame(x_scaler_df.corr())\n",
    "plot.pcolor(corMat)\n",
    "plot.show()"
   ]
  },
  {
   "cell_type": "code",
   "execution_count": 46,
   "metadata": {},
   "outputs": [
    {
     "data": {
      "image/png": "[encoded data removed]",
      "text/plain": [
       "<Figure size 432x288 with 1 Axes>"
      ]
     },
     "metadata": {
      "needs_background": "light"
     },
     "output_type": "display_data"
    }
   ],
   "source": [
    "#box plot\n",
    "summary=df.describe()\n",
    "dfNormalized=df.iloc[:,[20,21,23,24]]\n",
    "l = [4,5,7,8]\n",
    "for i in l:\n",
    "    mean=summary.iloc[1,i]\n",
    "    sd=summary.iloc[2,i]\n",
    "    dfNormalized.iloc[:,i:(i+1)]=(dfNormalized.iloc[:,i:(i+1)]-mean)/sd\n",
    "array=dfNormalized.values\n",
    "plot.boxplot(array)\n",
    "plot.xlabel(\"Attribute Index\")\n",
    "plot.ylabel((\"Quartile Ranges-Normalized\"))\n",
    "plot.show()"
   ]
  },
  {
   "cell_type": "code",
   "execution_count": 43,
   "metadata": {},
   "outputs": [
    {
     "data": {
      "image/png": "[encoded data removed]",
      "text/plain": [
       "<Figure size 432x288 with 1 Axes>"
      ]
     },
     "metadata": {
      "needs_background": "light"
     },
     "output_type": "display_data"
    }
   ],
   "source": [
    "#QQ Plot\n",
    "stats.probplot(df['LIQ SCORE'],dist='norm',plot=pylab)\n",
    "pylab.show()"
   ]
  },
  {
   "cell_type": "code",
   "execution_count": 44,
   "metadata": {},
   "outputs": [
    {
     "data": {
      "image/png": "[encoded data removed]",
      "text/plain": [
       "<Figure size 1080x360 with 1 Axes>"
      ]
     },
     "metadata": {
      "needs_background": "light"
     },
     "output_type": "display_data"
    }
   ],
   "source": [
    "#Histogram\n",
    "bloomberg=df['Bloomberg Composite Rating'][-df['Bloomberg Composite Rating'].isin(['Nan'])]\n",
    "plot.figure(figsize=(15,5))\n",
    "plot.xlabel('Credit Ratings')\n",
    "plot.ylabel('Amounts')\n",
    "plot.title('Bloomberg Composite Rating')\n",
    "plot.xticks(fontsize=8,rotation=60)\n",
    "_=plot.hist(bloomberg)"
   ]
  },
  {
   "cell_type": "code",
   "execution_count": 45,
   "metadata": {},
   "outputs": [
    {
     "name": "stdout",
     "output_type": "stream",
     "text": [
      "My name is Xin Zhang\n",
      "My NetID is: xzhan81\n",
      "I hereby certify that I have read the University policy on Academic Integrity and that I am not in violation.\n"
     ]
    }
   ],
   "source": [
    "print(\"My name is Xin Zhang\")\n",
    "print(\"My NetID is: xzhan81\")\n",
    "print(\"I hereby certify that I have read the University policy on Academic Integrity and that I am not in violation.\")"
   ]
  },
  {
   "cell_type": "code",
   "execution_count": null,
   "metadata": {},
   "outputs": [],
   "source": []
  },
  {
   "cell_type": "code",
   "execution_count": null,
   "metadata": {},
   "outputs": [],
   "source": []
  }
 ],
 "metadata": {
  "kernelspec": {
   "display_name": "Python 3",
   "language": "python",
   "name": "python3"
  },
  "language_info": {
   "codemirror_mode": {
    "name": "ipython",
    "version": 3
   },
   "file_extension": ".py",
   "mimetype": "text/x-python",
   "name": "python",
   "nbconvert_exporter": "python",
   "pygments_lexer": "ipython3",
   "version": "3.7.7"
  }
 },
 "nbformat": 4,
 "nbformat_minor": 4
}
